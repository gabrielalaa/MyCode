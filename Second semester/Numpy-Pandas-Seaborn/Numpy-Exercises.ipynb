{
 "cells": [
  {
   "cell_type": "code",
   "metadata": {
    "collapsed": true,
    "ExecuteTime": {
     "end_time": "2024-09-24T20:36:57.866279Z",
     "start_time": "2024-09-24T20:36:57.149410Z"
    }
   },
   "source": [
    "import numpy as np\n",
    "np.random.seed(1234)  # This makes sure that random is not random..."
   ],
   "outputs": [],
   "execution_count": 1
  },
  {
   "cell_type": "markdown",
   "source": [
    "# Indexing, Slicing, etc"
   ],
   "metadata": {
    "collapsed": false
   }
  },
  {
   "cell_type": "code",
   "source": [
    "# Let's create a 7x7 array\n",
    "s_by_s = np.arange(49).reshape((7,7))\n",
    "print(s_by_s)"
   ],
   "metadata": {
    "collapsed": false,
    "ExecuteTime": {
     "end_time": "2024-09-23T23:17:16.519273Z",
     "start_time": "2024-09-23T23:17:16.488013Z"
    }
   },
   "outputs": [
    {
     "name": "stdout",
     "output_type": "stream",
     "text": [
      "[[ 0  1  2  3  4  5  6]\n",
      " [ 7  8  9 10 11 12 13]\n",
      " [14 15 16 17 18 19 20]\n",
      " [21 22 23 24 25 26 27]\n",
      " [28 29 30 31 32 33 34]\n",
      " [35 36 37 38 39 40 41]\n",
      " [42 43 44 45 46 47 48]]\n"
     ]
    }
   ],
   "execution_count": 3
  },
  {
   "cell_type": "code",
   "source": [
    "# Write Code to extract ...\n",
    "# rows starting with [14 ...] and [21 ...]\n",
    "s_by_s[2:4]\n",
    "# every second columns starting from 2"
   ],
   "metadata": {
    "collapsed": false,
    "ExecuteTime": {
     "end_time": "2024-09-23T23:18:52.529026Z",
     "start_time": "2024-09-23T23:18:52.497762Z"
    }
   },
   "outputs": [
    {
     "data": {
      "text/plain": [
       "array([[14, 15, 16, 17, 18, 19, 20],\n",
       "       [21, 22, 23, 24, 25, 26, 27]])"
      ]
     },
     "execution_count": 7,
     "metadata": {},
     "output_type": "execute_result"
    }
   ],
   "execution_count": 7
  },
  {
   "metadata": {
    "ExecuteTime": {
     "end_time": "2024-09-23T23:21:16.671357Z",
     "start_time": "2024-09-23T23:21:16.640501Z"
    }
   },
   "cell_type": "code",
   "source": [
    "# every second columns starting from 2\n",
    "s_by_s[:, 1::2]"
   ],
   "outputs": [
    {
     "data": {
      "text/plain": [
       "array([[ 1,  3,  5],\n",
       "       [ 8, 10, 12],\n",
       "       [15, 17, 19],\n",
       "       [22, 24, 26],\n",
       "       [29, 31, 33],\n",
       "       [36, 38, 40],\n",
       "       [43, 45, 47]])"
      ]
     },
     "execution_count": 9,
     "metadata": {},
     "output_type": "execute_result"
    }
   ],
   "execution_count": 9
  },
  {
   "cell_type": "markdown",
   "source": [
    "# Functions in Numpy"
   ],
   "metadata": {
    "collapsed": false
   }
  },
  {
   "cell_type": "code",
   "source": [
    "# construct a 2D  array\n",
    "twenty_ints = np.linspace(0,95, 20, dtype=np.int8)\n",
    "twoD_arr = twenty_ints.reshape(4, -1)\n",
    "print(twoD_arr)"
   ],
   "metadata": {
    "collapsed": false,
    "ExecuteTime": {
     "end_time": "2024-09-23T23:23:54.383652Z",
     "start_time": "2024-09-23T23:23:54.368235Z"
    }
   },
   "outputs": [
    {
     "name": "stdout",
     "output_type": "stream",
     "text": [
      "[[ 0  5 10 15 20]\n",
      " [25 30 35 40 45]\n",
      " [50 55 60 65 70]\n",
      " [75 80 85 90 95]]\n"
     ]
    }
   ],
   "execution_count": 10
  },
  {
   "cell_type": "code",
   "source": [
    "print(twoD_arr.mean())  # mean of all"
   ],
   "metadata": {
    "collapsed": false,
    "ExecuteTime": {
     "end_time": "2024-09-23T23:23:58.278625Z",
     "start_time": "2024-09-23T23:23:58.247367Z"
    }
   },
   "outputs": [
    {
     "name": "stdout",
     "output_type": "stream",
     "text": [
      "47.5\n"
     ]
    }
   ],
   "execution_count": 11
  },
  {
   "cell_type": "code",
   "source": [
    "print(twoD_arr.mean(axis=0))  # means of columns"
   ],
   "metadata": {
    "collapsed": false,
    "ExecuteTime": {
     "end_time": "2024-09-23T23:24:00.468544Z",
     "start_time": "2024-09-23T23:24:00.452915Z"
    }
   },
   "outputs": [
    {
     "name": "stdout",
     "output_type": "stream",
     "text": [
      "[37.5 42.5 47.5 52.5 57.5]\n"
     ]
    }
   ],
   "execution_count": 12
  },
  {
   "cell_type": "code",
   "source": "print(twoD_arr.mean(axis=1))  # means of rows",
   "metadata": {
    "collapsed": false,
    "ExecuteTime": {
     "end_time": "2024-09-23T23:24:02.544512Z",
     "start_time": "2024-09-23T23:24:02.528879Z"
    }
   },
   "outputs": [
    {
     "name": "stdout",
     "output_type": "stream",
     "text": [
      "[10. 35. 60. 85.]\n"
     ]
    }
   ],
   "execution_count": 13
  },
  {
   "cell_type": "markdown",
   "source": [
    "# Filters..."
   ],
   "metadata": {
    "collapsed": false
   }
  },
  {
   "cell_type": "code",
   "source": [
    "filter = twoD_arr < 50\n",
    "print(filter)"
   ],
   "metadata": {
    "collapsed": false,
    "ExecuteTime": {
     "end_time": "2024-09-23T23:24:14.599876Z",
     "start_time": "2024-09-23T23:24:14.568629Z"
    }
   },
   "outputs": [
    {
     "name": "stdout",
     "output_type": "stream",
     "text": [
      "[[ True  True  True  True  True]\n",
      " [ True  True  True  True  True]\n",
      " [False False False False False]\n",
      " [False False False False False]]\n"
     ]
    }
   ],
   "execution_count": 14
  },
  {
   "metadata": {},
   "cell_type": "markdown",
   "source": ""
  },
  {
   "cell_type": "code",
   "source": [
    "# Update where filtered:\n",
    "# filtered_values = twoD_arr[filter]\n",
    "# print(filtered_values)\n",
    "\n",
    "filtered_array = np.where(filter, twoD_arr, 0)\n",
    "print(filtered_array)"
   ],
   "metadata": {
    "collapsed": false,
    "ExecuteTime": {
     "end_time": "2024-09-23T23:35:14.436276Z",
     "start_time": "2024-09-23T23:35:14.417943Z"
    }
   },
   "outputs": [
    {
     "name": "stdout",
     "output_type": "stream",
     "text": [
      "[[ 0  5 10 15 20]\n",
      " [25 30 35 40 45]\n",
      " [ 0  0  0  0  0]\n",
      " [ 0  0  0  0  0]]\n"
     ]
    }
   ],
   "execution_count": 30
  },
  {
   "cell_type": "markdown",
   "source": [
    "# Combine the two"
   ],
   "metadata": {
    "collapsed": false
   }
  },
  {
   "cell_type": "code",
   "source": [
    "np.random.seed(12345)\n",
    "practice = np.random.rand(4, 5)\n",
    "practice"
   ],
   "metadata": {
    "collapsed": false,
    "ExecuteTime": {
     "end_time": "2024-09-24T20:37:12.000381Z",
     "start_time": "2024-09-24T20:37:11.969121Z"
    }
   },
   "outputs": [
    {
     "data": {
      "text/plain": [
       "array([[0.92961609, 0.31637555, 0.18391881, 0.20456028, 0.56772503],\n",
       "       [0.5955447 , 0.96451452, 0.6531771 , 0.74890664, 0.65356987],\n",
       "       [0.74771481, 0.96130674, 0.0083883 , 0.10644438, 0.29870371],\n",
       "       [0.65641118, 0.80981255, 0.87217591, 0.9646476 , 0.72368535]])"
      ]
     },
     "execution_count": 2,
     "metadata": {},
     "output_type": "execute_result"
    }
   ],
   "execution_count": 2
  },
  {
   "cell_type": "code",
   "source": [
    "# Calculate the column-wise **sum** of every second column\n",
    "print(practice[:, 1::2].sum(axis=0))"
   ],
   "metadata": {
    "collapsed": false,
    "ExecuteTime": {
     "end_time": "2024-09-24T20:42:19.069507Z",
     "start_time": "2024-09-24T20:42:19.038246Z"
    }
   },
   "outputs": [
    {
     "name": "stdout",
     "output_type": "stream",
     "text": [
      "[3.05200936 2.02455889]\n"
     ]
    }
   ],
   "execution_count": 4
  },
  {
   "cell_type": "code",
   "source": [
    "# Compute the minimum of every row\n",
    "print(practice.min(axis=1))"
   ],
   "metadata": {
    "collapsed": false,
    "ExecuteTime": {
     "end_time": "2024-09-24T20:44:24.437048Z",
     "start_time": "2024-09-24T20:44:24.405788Z"
    }
   },
   "outputs": [
    {
     "name": "stdout",
     "output_type": "stream",
     "text": [
      "[0.18391881 0.5955447  0.0083883  0.65641118]\n"
     ]
    }
   ],
   "execution_count": 5
  },
  {
   "metadata": {
    "collapsed": false,
    "ExecuteTime": {
     "end_time": "2024-09-24T20:46:02.378590Z",
     "start_time": "2024-09-24T20:46:02.362960Z"
    }
   },
   "cell_type": "code",
   "outputs": [
    {
     "name": "stdout",
     "output_type": "stream",
     "text": [
      "0.00838829794155349\n"
     ]
    }
   ],
   "execution_count": 7,
   "source": [
    "# Compute the absolute minimum\n",
    "print(np.abs(practice).min())"
   ]
  },
  {
   "metadata": {
    "collapsed": false,
    "pycharm": {
     "is_executing": true
    },
    "ExecuteTime": {
     "end_time": "2024-09-24T20:47:52.899120Z",
     "start_time": "2024-09-24T20:47:52.883484Z"
    }
   },
   "cell_type": "code",
   "outputs": [
    {
     "name": "stdout",
     "output_type": "stream",
     "text": [
      "[[1.         0.31637555 0.18391881 0.20456028 0.56772503]\n",
      " [0.5955447  1.         0.6531771  0.74890664 0.65356987]\n",
      " [0.74771481 1.         0.0083883  0.10644438 0.29870371]\n",
      " [0.65641118 1.         1.         1.         0.72368535]]\n"
     ]
    }
   ],
   "execution_count": 9,
   "source": [
    "# Set the cells that are larger than 0.8 to 1\n",
    "filter = practice > 0.8\n",
    "practice[filter] = 1\n",
    "print(practice)"
   ]
  },
  {
   "metadata": {
    "ExecuteTime": {
     "end_time": "2024-09-24T20:52:33.898099Z",
     "start_time": "2024-09-24T20:52:33.866841Z"
    }
   },
   "cell_type": "code",
   "outputs": [
    {
     "data": {
      "text/plain": [
       "array([[ 7,  4,  0,  3,  5],\n",
       "       [ 7,  3,  1,  5,  2],\n",
       "       [ 5,  3,  8,  5,  2],\n",
       "       [ 5,  3,  0,  6,  8],\n",
       "       [ 0,  5, 10,  6,  8],\n",
       "       [ 9,  2,  2,  2,  9],\n",
       "       [10,  7,  5,  7,  1],\n",
       "       [ 0, 10,  9, 10,  3],\n",
       "       [ 0,  3,  0,  6,  2],\n",
       "       [ 1,  5,  8,  6,  5]], dtype=int32)"
      ]
     },
     "execution_count": 10,
     "metadata": {},
     "output_type": "execute_result"
    }
   ],
   "execution_count": 10,
   "source": [
    "# Task 3\n",
    "student_scores = np.random.randint(0,11,(10, 5))\n",
    "student_scores"
   ]
  },
  {
   "metadata": {
    "ExecuteTime": {
     "end_time": "2024-09-24T20:54:19.776699Z",
     "start_time": "2024-09-24T20:54:19.745439Z"
    }
   },
   "cell_type": "code",
   "source": [
    "# For each student (row)\n",
    "for row in student_scores:\n",
    "    print(f\"Min: {min(row)}\")\n",
    "    print(f\"Max: {max(row)}\")\n",
    "    print(f\"Mean: {np.mean(row)}\")\n",
    "    print(f\"StdDev: {np.std(row)}\")\n",
    "    print()"
   ],
   "outputs": [
    {
     "name": "stdout",
     "output_type": "stream",
     "text": [
      "Min: 0\n",
      "Max: 7\n",
      "Mean: 3.8\n",
      "StdDev: 2.3151673805580453\n",
      "\n",
      "Min: 1\n",
      "Max: 7\n",
      "Mean: 3.6\n",
      "StdDev: 2.154065922853802\n",
      "\n",
      "Min: 2\n",
      "Max: 8\n",
      "Mean: 4.6\n",
      "StdDev: 2.0591260281974\n",
      "\n",
      "Min: 0\n",
      "Max: 8\n",
      "Mean: 4.4\n",
      "StdDev: 2.727636339397171\n",
      "\n",
      "Min: 0\n",
      "Max: 10\n",
      "Mean: 5.8\n",
      "StdDev: 3.3704599092705436\n",
      "\n",
      "Min: 2\n",
      "Max: 9\n",
      "Mean: 4.8\n",
      "StdDev: 3.4292856398964493\n",
      "\n",
      "Min: 1\n",
      "Max: 10\n",
      "Mean: 6.0\n",
      "StdDev: 2.9664793948382653\n",
      "\n",
      "Min: 0\n",
      "Max: 10\n",
      "Mean: 6.4\n",
      "StdDev: 4.127953488110059\n",
      "\n",
      "Min: 0\n",
      "Max: 6\n",
      "Mean: 2.2\n",
      "StdDev: 2.2271057451320084\n",
      "\n",
      "Min: 1\n",
      "Max: 8\n",
      "Mean: 5.0\n",
      "StdDev: 2.280350850198276\n",
      "\n"
     ]
    }
   ],
   "execution_count": 12
  },
  {
   "metadata": {
    "ExecuteTime": {
     "end_time": "2024-09-24T20:57:57.953992Z",
     "start_time": "2024-09-24T20:57:57.922735Z"
    }
   },
   "cell_type": "code",
   "source": [
    "# For each assignment (column)\n",
    "for col in student_scores.T: # Use transpose to access them\n",
    "    print(f\"Min: {min(col)}\")\n",
    "    print(f\"Max: {max(col)}\")\n",
    "    print(f\"Mean: {np.mean(col)}\")\n",
    "    print(f\"StdDev: {np.std(col)}\")\n",
    "    print()"
   ],
   "outputs": [
    {
     "name": "stdout",
     "output_type": "stream",
     "text": [
      "Min: 0\n",
      "Max: 10\n",
      "Mean: 4.4\n",
      "StdDev: 3.693237062523877\n",
      "\n",
      "Min: 2\n",
      "Max: 10\n",
      "Mean: 4.5\n",
      "StdDev: 2.29128784747792\n",
      "\n",
      "Min: 0\n",
      "Max: 10\n",
      "Mean: 4.3\n",
      "StdDev: 3.925557285278104\n",
      "\n",
      "Min: 2\n",
      "Max: 10\n",
      "Mean: 5.6\n",
      "StdDev: 2.0591260281974\n",
      "\n",
      "Min: 1\n",
      "Max: 9\n",
      "Mean: 4.5\n",
      "StdDev: 2.80178514522438\n",
      "\n"
     ]
    }
   ],
   "execution_count": 16
  },
  {
   "metadata": {
    "ExecuteTime": {
     "end_time": "2024-09-24T21:00:10.235194Z",
     "start_time": "2024-09-24T21:00:10.219562Z"
    }
   },
   "cell_type": "code",
   "source": [
    "# Treat the entire array as one collection of numbers\n",
    "combined_scores = student_scores.flatten()\n",
    "\n",
    "print(f\"Min: {np.min(combined_scores)}\")\n",
    "print(f\"Max: {np.max(combined_scores)}\")\n",
    "print(f\"Mean: {np.mean(combined_scores)}\")\n",
    "print(f\"StdDev: {np.std(combined_scores)}\")\n"
   ],
   "outputs": [
    {
     "name": "stdout",
     "output_type": "stream",
     "text": [
      "Min: 0\n",
      "Max: 10\n",
      "Mean: 4.66\n",
      "StdDev: 3.0829206931090525\n"
     ]
    }
   ],
   "execution_count": 17
  },
  {
   "metadata": {
    "ExecuteTime": {
     "end_time": "2024-09-24T21:08:25.332855Z",
     "start_time": "2024-09-24T21:08:25.313032Z"
    }
   },
   "cell_type": "code",
   "source": [
    "min_ = 10\n",
    "max_ = 0\n",
    "mean_list = []\n",
    "std_dev_list = []\n",
    "\n",
    "for row in student_scores:\n",
    "    if min(row) < min_:\n",
    "        min_ = min(row)\n",
    "        \n",
    "    if max(row) > max_:\n",
    "        max_ = max(row)\n",
    "        \n",
    "    mean_list.append(np.mean(row))\n",
    "    \n",
    "for col in student_scores.T: \n",
    "    if min(col) < min_:\n",
    "        min_ = min(col)\n",
    "        \n",
    "    if max(col) > max_:\n",
    "        max_ = max(col)\n",
    "        \n",
    "    mean_list.append(np.mean(col))\n",
    "\n",
    "# To get the correct standard deviation, apply np.std() to the entire flattened array\n",
    "combined_scores = student_scores.flatten()\n",
    "\n",
    "print(f\"Min: {min_}\")\n",
    "print(f\"Max: {max_}\")\n",
    "print(f\"Mean: {np.mean(mean_list)}\")  # This is fine as you're averaging means\n",
    "print(f\"StdDev: {np.std(combined_scores)}\")  # Standard deviation of all scores combined"
   ],
   "outputs": [
    {
     "name": "stdout",
     "output_type": "stream",
     "text": [
      "Min: 0\n",
      "Max: 10\n",
      "Mean: 4.659999999999999\n",
      "StdDev: 3.0829206931090525\n"
     ]
    }
   ],
   "execution_count": 20
  },
  {
   "metadata": {
    "ExecuteTime": {
     "end_time": "2024-09-24T21:16:03.055068Z",
     "start_time": "2024-09-24T21:16:03.023813Z"
    }
   },
   "cell_type": "code",
   "source": [
    "for i, col in enumerate(student_scores.T):  # Transpose to iterate over columns (assignments)\n",
    "    q1 = np.percentile(col, 25)  # 25th percentile\n",
    "    q2 = np.percentile(col, 50)  # 50th percentile (median)\n",
    "    q3 = np.percentile(col, 75)  # 75th percentile\n",
    "    \n",
    "    print(f\"Assignment {i+1}:\")\n",
    "    print(f\"  25th percentile (Q1): {q1}\")\n",
    "    print(f\"  50th percentile (Median, Q2): {q2}\")\n",
    "    print(f\"  75th percentile (Q3): {q3}\")\n",
    "    print()\n"
   ],
   "outputs": [
    {
     "name": "stdout",
     "output_type": "stream",
     "text": [
      "Assignment 1:\n",
      "  25th percentile (Q1): 0.25\n",
      "  50th percentile (Median, Q2): 5.0\n",
      "  75th percentile (Q3): 7.0\n",
      "\n",
      "Assignment 2:\n",
      "  25th percentile (Q1): 3.0\n",
      "  50th percentile (Median, Q2): 3.5\n",
      "  75th percentile (Q3): 5.0\n",
      "\n",
      "Assignment 3:\n",
      "  25th percentile (Q1): 0.25\n",
      "  50th percentile (Median, Q2): 3.5\n",
      "  75th percentile (Q3): 8.0\n",
      "\n",
      "Assignment 4:\n",
      "  25th percentile (Q1): 5.0\n",
      "  50th percentile (Median, Q2): 6.0\n",
      "  75th percentile (Q3): 6.0\n",
      "\n",
      "Assignment 5:\n",
      "  25th percentile (Q1): 2.0\n",
      "  50th percentile (Median, Q2): 4.0\n",
      "  75th percentile (Q3): 7.25\n",
      "\n"
     ]
    }
   ],
   "execution_count": 21
  }
 ],
 "metadata": {
  "kernelspec": {
   "display_name": "Python 3",
   "language": "python",
   "name": "python3"
  },
  "language_info": {
   "codemirror_mode": {
    "name": "ipython",
    "version": 2
   },
   "file_extension": ".py",
   "mimetype": "text/x-python",
   "name": "python",
   "nbconvert_exporter": "python",
   "pygments_lexer": "ipython2",
   "version": "2.7.6"
  }
 },
 "nbformat": 4,
 "nbformat_minor": 0
}
